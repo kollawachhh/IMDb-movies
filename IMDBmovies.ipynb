{
 "cells": [
  {
   "cell_type": "code",
   "execution_count": 1,
   "metadata": {},
   "outputs": [],
   "source": [
    "import pandas as pd\n",
    "import numpy as np\n",
    "import datetime as dt\n",
    "import seaborn as sns"
   ]
  },
  {
   "cell_type": "code",
   "execution_count": 2,
   "metadata": {},
   "outputs": [
    {
     "name": "stderr",
     "output_type": "stream",
     "text": [
      "C:\\Users\\Chanwit\\anaconda3\\lib\\site-packages\\IPython\\core\\interactiveshell.py:3146: DtypeWarning: Columns (3) have mixed types.Specify dtype option on import or set low_memory=False.\n",
      "  has_raised = await self.run_ast_nodes(code_ast.body, cell_name,\n"
     ]
    }
   ],
   "source": [
    "im= pd.read_csv(\"../IMDb movies/IMDb movies.csv\")"
   ]
  },
  {
   "cell_type": "code",
   "execution_count": null,
   "metadata": {},
   "outputs": [],
   "source": []
  },
  {
   "cell_type": "code",
   "execution_count": null,
   "metadata": {},
   "outputs": [],
   "source": [
    "\n"
   ]
  },
  {
   "cell_type": "markdown",
   "metadata": {},
   "source": [
    "# 1. "
   ]
  },
  {
   "cell_type": "markdown",
   "metadata": {},
   "source": [
    "# 2. \n",
    "คำอธิบายข้อมูล: IMDb คือเว็บไซต์ที่เก็บรวมรวมข้อมูลต่างๆของภาพยนต์มากมาย ซึ่งใน Dataset ชุดนี้ได้เก็บรวบรวมขอมูลบางส่วนภายในเว็บไซต์ IMDb\\\n",
    "ที่มาของข้อมูล: เว็บไซต์ IMDb https://www.imdb.com \\\n",
    "ผู้เก็บรวบรวมข้อมูล: Stefano Leone"
   ]
  },
  {
   "cell_type": "markdown",
   "metadata": {},
   "source": [
    "# 3."
   ]
  },
  {
   "cell_type": "markdown",
   "metadata": {},
   "source": [
    "# 4."
   ]
  },
  {
   "cell_type": "code",
   "execution_count": 3,
   "metadata": {},
   "outputs": [],
   "source": [
    "im.drop(['budget','usa_gross_income','worlwide_gross_income','metascore'],axis=1,inplace = True)\n",
    "im.production_company = im.production_company.fillna(\"Other\")"
   ]
  },
  {
   "cell_type": "code",
   "execution_count": 4,
   "metadata": {},
   "outputs": [
    {
     "data": {
      "text/plain": [
       "imdb_title_id               0\n",
       "title                       0\n",
       "original_title              0\n",
       "year                        0\n",
       "date_published              0\n",
       "genre                       0\n",
       "duration                    0\n",
       "country                    64\n",
       "language                  833\n",
       "director                   87\n",
       "writer                   1572\n",
       "production_company          0\n",
       "actors                     69\n",
       "description              2115\n",
       "avg_vote                    0\n",
       "votes                       0\n",
       "reviews_from_users       7597\n",
       "reviews_from_critics    11797\n",
       "dtype: int64"
      ]
     },
     "execution_count": 4,
     "metadata": {},
     "output_type": "execute_result"
    }
   ],
   "source": [
    "im.isna().sum()"
   ]
  }
 ],
 "metadata": {
  "kernelspec": {
   "display_name": "Python 3",
   "language": "python",
   "name": "python3"
  },
  "language_info": {
   "codemirror_mode": {
    "name": "ipython",
    "version": 3
   },
   "file_extension": ".py",
   "mimetype": "text/x-python",
   "name": "python",
   "nbconvert_exporter": "python",
   "pygments_lexer": "ipython3",
   "version": "3.8.5"
  }
 },
 "nbformat": 4,
 "nbformat_minor": 4
}
